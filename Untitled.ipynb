{
 "cells": [
  {
   "cell_type": "code",
   "execution_count": 1,
   "id": "76876a88",
   "metadata": {},
   "outputs": [
    {
     "ename": "ModuleNotFoundError",
     "evalue": "No module named 'torch'",
     "output_type": "error",
     "traceback": [
      "\u001b[0;31m---------------------------------------------------------------------------\u001b[0m",
      "\u001b[0;31mModuleNotFoundError\u001b[0m                       Traceback (most recent call last)",
      "\u001b[0;32m/var/folders/bp/jpzs1ydd4dj8jj8kv5fx8wq80000gn/T/ipykernel_12303/3709426478.py\u001b[0m in \u001b[0;36m<module>\u001b[0;34m\u001b[0m\n\u001b[0;32m----> 1\u001b[0;31m \u001b[0;32mimport\u001b[0m \u001b[0mtorch\u001b[0m\u001b[0;34m\u001b[0m\u001b[0;34m\u001b[0m\u001b[0m\n\u001b[0m\u001b[1;32m      2\u001b[0m \u001b[0;32mimport\u001b[0m \u001b[0mtorch\u001b[0m\u001b[0;34m.\u001b[0m\u001b[0mnn\u001b[0m \u001b[0;32mas\u001b[0m \u001b[0mnn\u001b[0m\u001b[0;34m\u001b[0m\u001b[0;34m\u001b[0m\u001b[0m\n\u001b[1;32m      3\u001b[0m \u001b[0;32mimport\u001b[0m \u001b[0mnumpy\u001b[0m \u001b[0;32mas\u001b[0m \u001b[0mnp\u001b[0m\u001b[0;34m\u001b[0m\u001b[0;34m\u001b[0m\u001b[0m\n\u001b[1;32m      4\u001b[0m \u001b[0;32mimport\u001b[0m \u001b[0mdisc\u001b[0m\u001b[0;34m\u001b[0m\u001b[0;34m\u001b[0m\u001b[0m\n\u001b[1;32m      5\u001b[0m \u001b[0;32mimport\u001b[0m \u001b[0mutils\u001b[0m\u001b[0;34m\u001b[0m\u001b[0;34m\u001b[0m\u001b[0m\n",
      "\u001b[0;31mModuleNotFoundError\u001b[0m: No module named 'torch'"
     ]
    }
   ],
   "source": [
    "import torch\n",
    "import torch.nn as nn\n",
    "import numpy as np\n",
    "import disc\n",
    "import utils\n",
    "from tqdm import tqdm\n",
    "\n",
    "device = torch.device(\"cuda:0\" if torch.cuda.is_available() else \"cpu\")\n",
    "print(\"1. Operation Type: \", device)\n",
    "\n",
    "# grid\n",
    "N = 100\n",
    "dt = 1e-4\n",
    "\n",
    "x = np.linspace(0, 1, N)  # x domain [0,1]\n",
    "y = np.linspace(0, 1, N)  # y domain [0,1]\n",
    "\n",
    "h = 1/N\n",
    "k = dt/(2*h**2)\n",
    "\n",
    "# initial condition - star shape\n",
    "u0 = torch.FloatTensor(utils.star_ini(x, y, N)).to(device)\n",
    "\n",
    "# discretization\n",
    "A = torch.FloatTensor(disc.tri_disc(N, k)).to(device)\n",
    "B = torch.FloatTensor(disc.conv_mat(N+2, k, 1-4*k)).to(device)\n",
    "C = torch.FloatTensor(disc.tri_disc(N, k)).to(device)\n",
    "print(\"2. Generated discretization matrices\")\n",
    "\n",
    "# Crank-Nicolson Method\n",
    "pad = nn.ReplicationPad2d(1)\n",
    "A_inv = torch.linalg.inv(A)\n",
    "C_inv = torch.linalg.inv(C)\n",
    "\n",
    "u_pred = [u0.cpu().numpy().copy()]\n",
    "u = torch.clone(u0)\n",
    "u_star = torch.zeros(N,N).to(device)\n",
    "max_iter = 100\n",
    "\n",
    "print(\"3. Started iteration session\")\n",
    "for it in tqdm(range(max_iter-1)):\n",
    "    \n",
    "    # step 1\n",
    "    u_p = pad(u.unsqueeze(0).unsqueeze(0)).reshape(-1,1)\n",
    "    S = B @ u_p\n",
    "    S = S.reshape(N,N)\n",
    "    u_star[1:-1] = S[1:-1]@A_inv.T\n",
    "     \n",
    "    u_star[0,0] = k*(u[1,0]-2*u[0,0]+u[0,1])+u[0,0]\n",
    "    u_star[0,-1] = k*(u[1,-1]-2*u[0,-1]+u[0,-2])+u[0,-1]\n",
    "    u_star[-1,0] = k*(u[-2,0]-2*u[-1,0]+u[-1,1])+u[-1,0]\n",
    "    u_star[-1,-1] = k*(u[-2,-1]-2*u[-1,-1]+u[-1,-2])+u[-1,-1]\n",
    "    u_star[0,1:-1] = k*(-3*u[0,1:-1]+u[1,1:-1]+u[0,:-2]+u[0,2:])+u[0,1:-1]\n",
    "    u_star[-1,1:-1] = k*(-3*u[-1,1:-1]+u[-2,1:-1]+u[-1,:-2]+u[-1,2:])+u[-1,1:-1]\n",
    "\n",
    "    # step 2 \n",
    "    u = C_inv@u_star.T\n",
    "\n",
    "    u_pred.append(torch.clone(u).cpu().numpy())\n",
    "\n",
    "utils.resplot(x, y, u_pred, dt, max_iter)\n",
    "print(\"4. Completed the code\")"
   ]
  },
  {
   "cell_type": "code",
   "execution_count": null,
   "id": "efa1cf99",
   "metadata": {},
   "outputs": [],
   "source": []
  }
 ],
 "metadata": {
  "hide_input": false,
  "kernelspec": {
   "display_name": "Python 3 (ipykernel)",
   "language": "python",
   "name": "python3"
  },
  "language_info": {
   "codemirror_mode": {
    "name": "ipython",
    "version": 3
   },
   "file_extension": ".py",
   "mimetype": "text/x-python",
   "name": "python",
   "nbconvert_exporter": "python",
   "pygments_lexer": "ipython3",
   "version": "3.9.13"
  }
 },
 "nbformat": 4,
 "nbformat_minor": 5
}
